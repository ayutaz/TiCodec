{
 "cells": [
  {
   "cell_type": "code",
   "execution_count": null,
   "metadata": {},
   "outputs": [],
   "source": [
    "import torch\n",
    "dict = torch.load(\"logs_conv_only/logs_convonly_Lib_1g2r_cos_from_head/g_00300000\")\n",
    "older_val = dict['quantizer']['quantizer_modules3.0.embedding.weight']\n",
    "dict['quantizer']['quantizer_modules_globaltokens.0.embedding.weight'] = dict['quantizer'].pop('quantizer_modules3.0.embedding.weight')\n",
    "dict['quantizer']['quantizer_modules_globaltokens.1.embedding.weight'] = dict['quantizer'].pop('quantizer_modules3.1.embedding.weight')\n",
    "dict['quantizer']['quantizer_modules_globaltokens.2.embedding.weight'] = dict['quantizer'].pop('quantizer_modules3.2.embedding.weight')\n",
    "dict['quantizer']['quantizer_modules_globaltokens.3.embedding.weight'] = dict['quantizer'].pop('quantizer_modules3.3.embedding.weight')\n",
    "dict['quantizer']['quantizer_modules_globaltokens.4.embedding.weight'] = dict['quantizer'].pop('quantizer_modules3.4.embedding.weight')\n",
    "dict['quantizer']['quantizer_modules_globaltokens.5.embedding.weight'] = dict['quantizer'].pop('quantizer_modules3.5.embedding.weight')\n",
    "dict['quantizer']['quantizer_modules_globaltokens.6.embedding.weight'] = dict['quantizer'].pop('quantizer_modules3.6.embedding.weight')\n",
    "dict['quantizer']['quantizer_modules_globaltokens.7.embedding.weight'] = dict['quantizer'].pop('quantizer_modules3.7.embedding.weight')\n",
    "torch.save(dict, \"logs_conv_only/logs_convonly_Lib_1g1r_cos_from_head/g_00300000_changed\")\n",
    "changed_dict = torch.load(\"logs_conv_only/logs_convonly_Lib_1g1r_cos_from_head/g_00300000_changed\")\n",
    "print(older_val)\n",
    "print(changed_dict['quantizer']['quantizer_modules_globaltokens.0.embedding.weight'])"
   ]
  },
  {
   "cell_type": "code",
   "execution_count": null,
   "metadata": {},
   "outputs": [],
   "source": [
    "import torch\n",
    "dict = torch.load(\"logs_conv_only/logs_convonly_Lib_1g2r_cos_from_head/g_00250000\")\n",
    "older_val = dict['quantizer']['quantizer_modules3.0.embedding.weight']\n",
    "dict['quantizer']['quantizer_modules_globaltokens.0.embedding.weight'] = dict['quantizer'].pop('quantizer_modules3.0.embedding.weight')\n",
    "dict['quantizer']['quantizer_modules_globaltokens.1.embedding.weight'] = dict['quantizer'].pop('quantizer_modules3.1.embedding.weight')\n",
    "dict['quantizer']['quantizer_modules_globaltokens.2.embedding.weight'] = dict['quantizer'].pop('quantizer_modules3.2.embedding.weight')\n",
    "dict['quantizer']['quantizer_modules_globaltokens.3.embedding.weight'] = dict['quantizer'].pop('quantizer_modules3.3.embedding.weight')\n",
    "dict['quantizer']['quantizer_modules_globaltokens.4.embedding.weight'] = dict['quantizer'].pop('quantizer_modules3.4.embedding.weight')\n",
    "dict['quantizer']['quantizer_modules_globaltokens.5.embedding.weight'] = dict['quantizer'].pop('quantizer_modules3.5.embedding.weight')\n",
    "dict['quantizer']['quantizer_modules_globaltokens.6.embedding.weight'] = dict['quantizer'].pop('quantizer_modules3.6.embedding.weight')\n",
    "dict['quantizer']['quantizer_modules_globaltokens.7.embedding.weight'] = dict['quantizer'].pop('quantizer_modules3.7.embedding.weight')\n",
    "torch.save(dict, \"logs_conv_only/logs_convonly_Lib_1g2r_cos_from_head/g_00250000_changed\")\n",
    "changed_dict = torch.load(\"logs_conv_only/logs_convonly_Lib_1g2r_cos_from_head/g_00250000_changed\")\n",
    "print(older_val)\n",
    "print(changed_dict['quantizer']['quantizer_modules_globaltokens.0.embedding.weight'])"
   ]
  }
 ],
 "metadata": {
  "kernelspec": {
   "display_name": "valle",
   "language": "python",
   "name": "python3"
  },
  "language_info": {
   "codemirror_mode": {
    "name": "ipython",
    "version": 3
   },
   "file_extension": ".py",
   "mimetype": "text/x-python",
   "name": "python",
   "nbconvert_exporter": "python",
   "pygments_lexer": "ipython3",
   "version": "3.10.11"
  },
  "orig_nbformat": 4
 },
 "nbformat": 4,
 "nbformat_minor": 2
}
