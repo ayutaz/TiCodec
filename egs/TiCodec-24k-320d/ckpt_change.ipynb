{
 "cells": [
  {
   "cell_type": "code",
   "execution_count": 4,
   "metadata": {},
   "outputs": [
    {
     "name": "stdout",
     "output_type": "stream",
     "text": [
      "tensor([[-4.6765e-04, -3.9193e-04, -8.9092e-04,  ..., -8.2185e-04,\n",
      "         -3.3529e-04, -4.9950e-04],\n",
      "        [-1.3189e-04, -8.0172e-04,  4.9193e-04,  ...,  4.8357e-04,\n",
      "          6.3229e-04,  2.0668e-04],\n",
      "        [-6.3711e-04, -6.5284e-04,  7.1310e-04,  ...,  8.1376e-04,\n",
      "         -6.0325e-04,  7.8590e-04],\n",
      "        ...,\n",
      "        [ 9.6947e-04, -2.1873e-04,  4.4545e-04,  ..., -8.3289e-04,\n",
      "          5.3211e-04, -2.9389e-04],\n",
      "        [ 1.7141e-04,  6.6943e-04,  9.0328e-04,  ...,  8.8713e-04,\n",
      "          1.6504e-04, -5.4689e-04],\n",
      "        [ 3.7527e-05, -8.8904e-04, -2.3945e-04,  ..., -1.9622e-04,\n",
      "         -8.1892e-04, -3.2695e-04]], device='cuda:0')\n",
      "tensor([[-4.6765e-04, -3.9193e-04, -8.9092e-04,  ..., -8.2185e-04,\n",
      "         -3.3529e-04, -4.9950e-04],\n",
      "        [-1.3189e-04, -8.0172e-04,  4.9193e-04,  ...,  4.8357e-04,\n",
      "          6.3229e-04,  2.0668e-04],\n",
      "        [-6.3711e-04, -6.5284e-04,  7.1310e-04,  ...,  8.1376e-04,\n",
      "         -6.0325e-04,  7.8590e-04],\n",
      "        ...,\n",
      "        [ 9.6947e-04, -2.1873e-04,  4.4545e-04,  ..., -8.3289e-04,\n",
      "          5.3211e-04, -2.9389e-04],\n",
      "        [ 1.7141e-04,  6.6943e-04,  9.0328e-04,  ...,  8.8713e-04,\n",
      "          1.6504e-04, -5.4689e-04],\n",
      "        [ 3.7527e-05, -8.8904e-04, -2.3945e-04,  ..., -1.9622e-04,\n",
      "         -8.1892e-04, -3.2695e-04]], device='cuda:0')\n"
     ]
    }
   ],
   "source": [
    "import torch\n",
    "dict = torch.load(\"logs_conv_only/logs_convonly_Lib_1g1r_cos_from_head/g_00300000\")\n",
    "dict = torch.load(\"logs_conv_only/logs_convonly_Lib_1g1r_cos_from_head/g_00315000\")\n",
    "older_val = dict['quantizer']['quantizer_modules3.0.embedding.weight']\n",
    "dict['quantizer']['quantizer_modules_globaltokens.0.embedding.weight'] = dict['quantizer'].pop('quantizer_modules3.0.embedding.weight')\n",
    "dict['quantizer']['quantizer_modules_globaltokens.1.embedding.weight'] = dict['quantizer'].pop('quantizer_modules3.1.embedding.weight')\n",
    "dict['quantizer']['quantizer_modules_globaltokens.2.embedding.weight'] = dict['quantizer'].pop('quantizer_modules3.2.embedding.weight')\n",
    "dict['quantizer']['quantizer_modules_globaltokens.3.embedding.weight'] = dict['quantizer'].pop('quantizer_modules3.3.embedding.weight')\n",
    "dict['quantizer']['quantizer_modules_globaltokens.4.embedding.weight'] = dict['quantizer'].pop('quantizer_modules3.4.embedding.weight')\n",
    "dict['quantizer']['quantizer_modules_globaltokens.5.embedding.weight'] = dict['quantizer'].pop('quantizer_modules3.5.embedding.weight')\n",
    "dict['quantizer']['quantizer_modules_globaltokens.6.embedding.weight'] = dict['quantizer'].pop('quantizer_modules3.6.embedding.weight')\n",
    "dict['quantizer']['quantizer_modules_globaltokens.7.embedding.weight'] = dict['quantizer'].pop('quantizer_modules3.7.embedding.weight')\n",
    "# torch.save(dict, \"logs_conv_only/logs_convonly_Lib_1g1r_cos_from_head/g_00300000_changed\")\n",
    "# changed_dict = torch.load(\"logs_conv_only/logs_convonly_Lib_1g1r_cos_from_head/g_00300000_changed\")\n",
    "torch.save(dict, \"logs_conv_only/logs_convonly_Lib_1g1r_cos_from_head/g_00315000_changed\")\n",
    "changed_dict = torch.load(\"logs_conv_only/logs_convonly_Lib_1g1r_cos_from_head/g_00315000_changed\")\n",
    "print(older_val)\n",
    "print(changed_dict['quantizer']['quantizer_modules_globaltokens.0.embedding.weight'])"
   ]
  },
  {
   "cell_type": "code",
   "execution_count": 5,
   "metadata": {},
   "outputs": [
    {
     "name": "stdout",
     "output_type": "stream",
     "text": [
      "tensor([[ 6.1918e-04, -8.2497e-04, -6.5766e-04,  ...,  7.9715e-04,\n",
      "         -3.2591e-04, -6.0812e-04],\n",
      "        [ 1.9125e-04, -5.3635e-04,  6.4682e-04,  ...,  1.8873e-04,\n",
      "          1.2666e-04, -3.6316e-04],\n",
      "        [-5.2815e-04,  4.3216e-04,  8.2947e-04,  ..., -7.3185e-04,\n",
      "         -7.7015e-04,  2.3541e-04],\n",
      "        ...,\n",
      "        [-9.3963e-04, -5.6422e-04,  6.1759e-04,  ..., -4.2701e-05,\n",
      "          1.4972e-04, -5.3772e-04],\n",
      "        [ 5.5987e-04,  8.8810e-05, -4.2659e-04,  ..., -8.1715e-04,\n",
      "          4.1195e-05,  1.5095e-04],\n",
      "        [ 6.8400e-04, -5.2792e-04, -6.2755e-04,  ..., -1.8713e-04,\n",
      "          2.1020e-04, -5.6967e-04]], device='cuda:0')\n",
      "tensor([[ 6.1918e-04, -8.2497e-04, -6.5766e-04,  ...,  7.9715e-04,\n",
      "         -3.2591e-04, -6.0812e-04],\n",
      "        [ 1.9125e-04, -5.3635e-04,  6.4682e-04,  ...,  1.8873e-04,\n",
      "          1.2666e-04, -3.6316e-04],\n",
      "        [-5.2815e-04,  4.3216e-04,  8.2947e-04,  ..., -7.3185e-04,\n",
      "         -7.7015e-04,  2.3541e-04],\n",
      "        ...,\n",
      "        [-9.3963e-04, -5.6422e-04,  6.1759e-04,  ..., -4.2701e-05,\n",
      "          1.4972e-04, -5.3772e-04],\n",
      "        [ 5.5987e-04,  8.8810e-05, -4.2659e-04,  ..., -8.1715e-04,\n",
      "          4.1195e-05,  1.5095e-04],\n",
      "        [ 6.8400e-04, -5.2792e-04, -6.2755e-04,  ..., -1.8713e-04,\n",
      "          2.1020e-04, -5.6967e-04]], device='cuda:0')\n"
     ]
    }
   ],
   "source": [
    "import torch\n",
    "dict = torch.load(\"logs_conv_only/logs_convonly_Lib_1g2r_cos_from_head/g_00250000\")\n",
    "older_val = dict['quantizer']['quantizer_modules3.0.embedding.weight']\n",
    "dict['quantizer']['quantizer_modules_globaltokens.0.embedding.weight'] = dict['quantizer'].pop('quantizer_modules3.0.embedding.weight')\n",
    "dict['quantizer']['quantizer_modules_globaltokens.1.embedding.weight'] = dict['quantizer'].pop('quantizer_modules3.1.embedding.weight')\n",
    "dict['quantizer']['quantizer_modules_globaltokens.2.embedding.weight'] = dict['quantizer'].pop('quantizer_modules3.2.embedding.weight')\n",
    "dict['quantizer']['quantizer_modules_globaltokens.3.embedding.weight'] = dict['quantizer'].pop('quantizer_modules3.3.embedding.weight')\n",
    "dict['quantizer']['quantizer_modules_globaltokens.4.embedding.weight'] = dict['quantizer'].pop('quantizer_modules3.4.embedding.weight')\n",
    "dict['quantizer']['quantizer_modules_globaltokens.5.embedding.weight'] = dict['quantizer'].pop('quantizer_modules3.5.embedding.weight')\n",
    "dict['quantizer']['quantizer_modules_globaltokens.6.embedding.weight'] = dict['quantizer'].pop('quantizer_modules3.6.embedding.weight')\n",
    "dict['quantizer']['quantizer_modules_globaltokens.7.embedding.weight'] = dict['quantizer'].pop('quantizer_modules3.7.embedding.weight')\n",
    "torch.save(dict, \"logs_conv_only/logs_convonly_Lib_1g2r_cos_from_head/g_00250000_changed\")\n",
    "changed_dict = torch.load(\"logs_conv_only/logs_convonly_Lib_1g2r_cos_from_head/g_00250000_changed\")\n",
    "print(older_val)\n",
    "print(changed_dict['quantizer']['quantizer_modules_globaltokens.0.embedding.weight'])"
   ]
  }
 ],
 "metadata": {
  "kernelspec": {
   "display_name": "valle",
   "language": "python",
   "name": "python3"
  },
  "language_info": {
   "codemirror_mode": {
    "name": "ipython",
    "version": 3
   },
   "file_extension": ".py",
   "mimetype": "text/x-python",
   "name": "python",
   "nbconvert_exporter": "python",
   "pygments_lexer": "ipython3",
   "version": "3.10.11"
  },
  "orig_nbformat": 4
 },
 "nbformat": 4,
 "nbformat_minor": 2
}
